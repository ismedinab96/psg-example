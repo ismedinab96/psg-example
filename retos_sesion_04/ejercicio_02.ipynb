{
 "cells": [
  {
   "cell_type": "markdown",
   "id": "3924c43c",
   "metadata": {},
   "source": [
    "Símbolos: * , () \\ | / o \" ' = C"
   ]
  },
  {
   "cell_type": "markdown",
   "id": "0b5abd88",
   "metadata": {},
   "source": [
    "Un Mono: \n",
    "   ,,,,,\n",
    "  ( \" \" )  \n",
    "   | ^ |  \n",
    "   \\___/   o o o \n",
    "  /     \\    o  \n",
    " /       \\o o \n",
    "/         \\ \n"
   ]
  }
 ],
 "metadata": {
  "language_info": {
   "name": "python"
  }
 },
 "nbformat": 4,
 "nbformat_minor": 5
}
