{
 "cells": [
  {
   "cell_type": "code",
   "execution_count": null,
   "id": "c86056c5",
   "metadata": {},
   "outputs": [],
   "source": [
    "print (\"Listas anidadas\")\n",
    "lista = [1,2,3,[4,5,6]]\n",
    "print (lista)\n",
    "print (type(lista))\n",
    "valor_lista = lista[3]\n",
    "print (valor_lista)\n",
    "print (type(valor_lista))\n",
    "valor = valor_lista[1]\n",
    "print (valor)\n",
    "print (type(valor))"
   ]
  },
  {
   "cell_type": "code",
   "execution_count": null,
   "id": "67385ef0",
   "metadata": {},
   "outputs": [],
   "source": [
    "print (\"Igual y Desigual que\")\n",
    "print ([1,2,3] == [1,2,3])\n",
    "print ([1,2,3] == [1,2,4])\n",
    "print ([1,2,3] != [1,2,3])\n",
    "print ([1,2,3] != [1,2,4])"
   ]
  },
  {
   "cell_type": "code",
   "execution_count": null,
   "id": "a27303b5",
   "metadata": {},
   "outputs": [],
   "source": [
    "print (\"Mayor y Mayor Igual que\")\n",
    "print ([1,2,3] >= [1,2,4])\n",
    "print ([1,2,3] >= [1,2,2,2])\n",
    "print ([1,2,3] >= [2])\n",
    "print ([1,2,3] > [1,2,3])\n",
    "print ([1,2,3] >= [1,2,3])"
   ]
  },
  {
   "cell_type": "code",
   "execution_count": null,
   "id": "d054d7ca",
   "metadata": {},
   "outputs": [],
   "source": [
    "print (\"Menor y Menor Igual que\")\n",
    "print ([1,2,3] <= [1,2,4])\n",
    "print ([1,2,3] <= [1,2,2,2])\n",
    "print ([1,2,3] <= [2])\n",
    "print ([1,2,3] < [1,2,3])\n",
    "print ([1,2,3] <= [1,2,3])"
   ]
  },
  {
   "cell_type": "code",
   "execution_count": null,
   "id": "affe5909",
   "metadata": {},
   "outputs": [],
   "source": [
    "print (\"Comparación de listas\")\n",
    "lista1 = [1,2,3,4,5]\n",
    "lista2 = [1,2,3,4,5]\n",
    "lista3 = [1,2]\n",
    "print (lista1, lista2, lista3)\n",
    "print (lista1 is lista2)\n",
    "print (lista1 is not lista2)\n",
    "print (lista3 is lista1)"
   ]
  },
  {
   "cell_type": "code",
   "execution_count": null,
   "id": "5b76d35b",
   "metadata": {},
   "outputs": [],
   "source": [
    "print (\"Comparación de listas\")\n",
    "lista = [1,2,3,4,5]\n",
    "print (lista)\n",
    "print (3 in lista)\n",
    "print (6 in lista)\n",
    "print (3 not in lista)\n",
    "print (6 not in lista)\n",
    "print ([1,2,3] in lista)"
   ]
  },
  {
   "cell_type": "code",
   "execution_count": null,
   "id": "9cb160df",
   "metadata": {},
   "outputs": [],
   "source": [
    "print (\"Función sum()\")\n",
    "lista = [1,2,3,4,5]\n",
    "print (lista)\n",
    "print (sum(lista))"
   ]
  },
  {
   "cell_type": "code",
   "execution_count": null,
   "id": "877d72ab",
   "metadata": {},
   "outputs": [],
   "source": [
    "print (\"Función min()\")\n",
    "lista = [1,2,3,4,5]\n",
    "print (lista)\n",
    "print (min(lista))\n",
    "lista = [\"a\",\"b\",\"c\",\"d\",\"e\"]\n",
    "print (lista)\n",
    "print (min(lista))"
   ]
  },
  {
   "cell_type": "code",
   "execution_count": null,
   "id": "dc6fba73",
   "metadata": {},
   "outputs": [],
   "source": [
    "print (\"Función max()\")\n",
    "lista = [1,2,3,4,5]\n",
    "print (lista)\n",
    "print (max(lista))\n",
    "lista = [\"a\",\"b\",\"c\",\"d\",\"e\"]\n",
    "print (lista)\n",
    "print (max(lista))"
   ]
  },
  {
   "cell_type": "code",
   "execution_count": null,
   "id": "9941bdf2",
   "metadata": {},
   "outputs": [],
   "source": [
    "print (\"Función len()\")\n",
    "lista = [1,True,3.14,\"🐍\",5]\n",
    "print (lista)\n",
    "print (len(lista))"
   ]
  },
  {
   "cell_type": "code",
   "execution_count": null,
   "id": "7a6c563b",
   "metadata": {},
   "outputs": [],
   "source": [
    "print (\"Método copia con slicing\")\n",
    "lista = [1,2,3,4,5]\n",
    "print (lista)\n",
    "copia = lista.copy()\n",
    "copia[0] = 6\n",
    "print (copia)\n",
    "print (lista)"
   ]
  },
  {
   "cell_type": "code",
   "execution_count": null,
   "id": "eb8815e1",
   "metadata": {},
   "outputs": [],
   "source": [
    "print (\"Método copy()\")\n",
    "lista = [3,1,5,2,4]\n",
    "print (lista)\n",
    "copia = lista.copy()\n",
    "print (copia)\n",
    "print (copia == lista)"
   ]
  },
  {
   "cell_type": "code",
   "execution_count": null,
   "id": "9a68210d",
   "metadata": {},
   "outputs": [],
   "source": [
    "print (\"Método copia con slicing\")\n",
    "lista = [1,2,3,4,5]\n",
    "print (lista)\n",
    "copia = lista[:]\n",
    "copia[0] = 6\n",
    "print (copia)\n",
    "print (lista)"
   ]
  },
  {
   "cell_type": "code",
   "execution_count": null,
   "id": "dedd5204",
   "metadata": {},
   "outputs": [],
   "source": [
    "print (\"Asignación de lista\")\n",
    "lista = [1,2,3,4,5]\n",
    "print (lista)\n",
    "copia = lista\n",
    "copia[0] = 6\n",
    "print (copia)\n",
    "print (lista)"
   ]
  },
  {
   "cell_type": "code",
   "execution_count": null,
   "id": "4cb2a9dd",
   "metadata": {},
   "outputs": [],
   "source": [
    "print (\"Método reverse()\")\n",
    "lista = [3,1,5,2,4]\n",
    "print (lista)\n",
    "lista.reverse()\n",
    "print (lista)"
   ]
  },
  {
   "cell_type": "code",
   "execution_count": null,
   "id": "6c12e232",
   "metadata": {},
   "outputs": [],
   "source": [
    "print (\"Método sort()\")\n",
    "lista = [3,1,5,2,4]\n",
    "print (lista)\n",
    "lista.sort(reverse=True)\n",
    "print (lista)"
   ]
  },
  {
   "cell_type": "code",
   "execution_count": null,
   "id": "d31fcf50",
   "metadata": {},
   "outputs": [],
   "source": [
    "print (\"Método sort()\")\n",
    "lista = [3,1,5,2,4]\n",
    "print (lista)\n",
    "lista.sort()\n",
    "print (lista)"
   ]
  },
  {
   "cell_type": "code",
   "execution_count": null,
   "id": "2cbdbefc",
   "metadata": {},
   "outputs": [],
   "source": [
    "print (\"Método clear()\")\n",
    "lista = [\"ewe\",\"OwO\",\"UwU\"]\n",
    "print (lista)\n",
    "lista.clear()\n",
    "print (lista)"
   ]
  },
  {
   "cell_type": "code",
   "execution_count": null,
   "id": "6940b941",
   "metadata": {},
   "outputs": [],
   "source": [
    "print (\"Método pop(i)\")\n",
    "lista = [\"OwO\",3,\"UwU\",5]\n",
    "print (lista)\n",
    "lista.pop(1)\n",
    "print (lista)\n",
    "print (\"Método pop()\")\n",
    "lista.pop()\n",
    "print (lista)"
   ]
  },
  {
   "cell_type": "code",
   "execution_count": null,
   "id": "344586f5",
   "metadata": {},
   "outputs": [],
   "source": [
    "print (\"Método remove(valor)\")\n",
    "lista = [1,2,\"UwU\",4,5, \"UwU\"]\n",
    "print (lista)\n",
    "lista.remove(\"UwU\")\n",
    "print (lista)"
   ]
  },
  {
   "cell_type": "code",
   "execution_count": null,
   "id": "9bb2320b",
   "metadata": {},
   "outputs": [],
   "source": [
    "print (\"Método extend(iterable)\")\n",
    "lista = [1,2,3]\n",
    "print (lista)\n",
    "lista.extend(\":3\")\n",
    "print (lista)\n",
    "lista.extend([\"(¬_¬ )\", \"(O_O=)\"])\n",
    "print (lista)\n",
    "lista.extend((\"😅\", \"😎\"))\n",
    "print (lista)"
   ]
  },
  {
   "cell_type": "code",
   "execution_count": null,
   "id": "eea3a95a",
   "metadata": {},
   "outputs": [],
   "source": [
    "print (\"Método append(valor)\")\n",
    "lista = [1,2,3,4,5]\n",
    "print (lista)\n",
    "lista.append(\"(OwO=)\")\n",
    "print (lista)"
   ]
  },
  {
   "cell_type": "code",
   "execution_count": null,
   "id": "b4c0bd83",
   "metadata": {},
   "outputs": [],
   "source": [
    "print (\"Método insert(i, valor)\")\n",
    "lista = [1,2,3,4,5]\n",
    "print (lista)\n",
    "lista.insert(2, \"OwO\")\n",
    "print (lista)"
   ]
  },
  {
   "cell_type": "code",
   "execution_count": null,
   "id": "60ab8053",
   "metadata": {},
   "outputs": [],
   "source": [
    "print (\"Método count(valor)\")\n",
    "lista = [1,True,3.14,\"hola\",5, True, True, 3.140]\n",
    "valor = True\n",
    "print (valor, lista.count(valor))\n",
    "valor = 3.14\n",
    "print (valor, lista.count(valor))"
   ]
  },
  {
   "cell_type": "code",
   "execution_count": null,
   "id": "ee721308",
   "metadata": {},
   "outputs": [],
   "source": [
    "print (\"Método index(valor)\")\n",
    "lista = [1,True,3.14,\"hola\",5]\n",
    "valor = \"hola\"\n",
    "print (valor, lista.index(valor))\n",
    "valor = 3.14\n",
    "print (valor, lista.index(valor))"
   ]
  },
  {
   "cell_type": "code",
   "execution_count": null,
   "id": "49cef149",
   "metadata": {},
   "outputs": [],
   "source": [
    "print (\"Repetición de listas\")\n",
    "lista = [True, False]\n",
    "repetir = lista * 3\n",
    "print (lista)\n",
    "print (repetir)\n",
    "print (type(repetir))"
   ]
  },
  {
   "cell_type": "code",
   "execution_count": null,
   "id": "ff7b3c4e",
   "metadata": {},
   "outputs": [],
   "source": [
    "print (\"Concatenación de listas\")\n",
    "lista1 = [1,2,3]\n",
    "lista2 = [\"a\",\"b\",\"c\"]\n",
    "concatenar = lista1 + lista2\n",
    "print (lista1, lista2)\n",
    "print (concatenar)\n",
    "print (type(concatenar))"
   ]
  },
  {
   "cell_type": "code",
   "execution_count": null,
   "id": "1b2c00f9",
   "metadata": {},
   "outputs": [],
   "source": [
    "print (\"Slicing negativo con paso positivo\")\n",
    "lista = [\"P\", \"y\", \"t\", \"h\", \"o\", \"n\", \"L\", \"a\", \"P\", \"a\", \"z\"]\n",
    "print (lista)\n",
    "sub_lista = lista[-8:-1:2]\n",
    "print (sub_lista)"
   ]
  },
  {
   "cell_type": "code",
   "execution_count": null,
   "id": "7919ab0d",
   "metadata": {},
   "outputs": [],
   "source": [
    "print (\"Slicing negativo con paso negativo\")\n",
    "lista = [\"P\", \"y\", \"t\", \"h\", \"o\", \"n\", \"L\", \"a\", \"P\", \"a\", \"z\"]\n",
    "print (lista)\n",
    "sub_lista = lista[-1:-8:-2]\n",
    "print (sub_lista)"
   ]
  },
  {
   "cell_type": "code",
   "execution_count": null,
   "id": "16c423ec",
   "metadata": {},
   "outputs": [],
   "source": [
    "print (\"Slicing con paso negativo\")\n",
    "lista = [\"P\", \"y\", \"t\", \"h\", \"o\", \"n\", \"L\", \"a\", \"P\", \"a\", \"z\"]\n",
    "print (lista)\n",
    "sub_lista = lista[8:2:-4]\n",
    "print (sub_lista)"
   ]
  },
  {
   "cell_type": "code",
   "execution_count": null,
   "id": "634f703c",
   "metadata": {},
   "outputs": [],
   "source": [
    "print (\"Slicing con paso positivo\")\n",
    "lista = [\"P\", \"y\", \"t\", \"h\", \"o\", \"n\", \"L\", \"a\", \"P\", \"a\", \"z\"]\n",
    "print (lista)\n",
    "sub_lista = lista[0:9:3]\n",
    "print (sub_lista)"
   ]
  },
  {
   "cell_type": "code",
   "execution_count": null,
   "id": "7dcc915e",
   "metadata": {},
   "outputs": [],
   "source": [
    "print (\"Slicing de una lista\")\n",
    "lista = [\"P\", \"y\", \"t\", \"h\", \"o\", \"n\", \"L\", \"a\", \"P\", \"a\", \"z\"]\n",
    "print (lista)\n",
    "sub_lista = lista[2:7]\n",
    "print (sub_lista)\n",
    "print (type(sub_lista))"
   ]
  },
  {
   "cell_type": "code",
   "execution_count": null,
   "id": "c5291a4e",
   "metadata": {},
   "outputs": [],
   "source": [
    "print (\"Modificación de una lista\")\n",
    "lista = [1, \"hola\", 3.14, (1,2)]\n",
    "print (lista)\n",
    "lista[0] = 2\n",
    "lista[1] = \"mundo\"\n",
    "print (lista)"
   ]
  },
  {
   "cell_type": "code",
   "execution_count": null,
   "id": "029f5249",
   "metadata": {},
   "outputs": [],
   "source": [
    "print (\"Indexación negativo de una lista\")\n",
    "lista = [1, \"hola\", 3.14, (1,2)]\n",
    "print (lista[-1], type(lista[-1]))\n",
    "print (lista[-2], type(lista[-2]))\n",
    "print (lista[-3], type(lista[-3]))\n",
    "print (lista[-4], type(lista[-4]))"
   ]
  },
  {
   "cell_type": "code",
   "execution_count": null,
   "id": "0c135076",
   "metadata": {},
   "outputs": [],
   "source": [
    "print (\"Indexación positivo de una lista\")\n",
    "lista = [1, \"hola\", 3.14, (1,2)]\n",
    "print (lista[0], type(lista[0])) \n",
    "print (lista[1], type(lista[1])) \n",
    "print (lista[2], type(lista[2])) \n",
    "print (lista[3], type(lista[3])) "
   ]
  },
  {
   "cell_type": "code",
   "execution_count": null,
   "id": "ac5c943d",
   "metadata": {},
   "outputs": [],
   "source": [
    "print (\"Lista por comprensión\")\n",
    "mi_lista = [x for x in range(10)]\n",
    "print (mi_lista)"
   ]
  },
  {
   "cell_type": "code",
   "execution_count": null,
   "id": "15974375",
   "metadata": {},
   "outputs": [],
   "source": [
    "print (\"Lista a partir de una tupla\")\n",
    "mi_tupla = (1,2,3,4,5)\n",
    "print (mi_tupla)\n",
    "mi_lista = list(mi_tupla)\n",
    "print (mi_lista)"
   ]
  }
 ],
 "metadata": {
  "language_info": {
   "name": "python"
  }
 },
 "nbformat": 4,
 "nbformat_minor": 5
}
