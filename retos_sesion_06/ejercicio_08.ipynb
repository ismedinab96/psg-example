{
 "cells": [
  {
   "cell_type": "markdown",
   "id": "cc987394",
   "metadata": {},
   "source": [
    "# Ejercicios de la sesion 6"
   ]
  },
  {
   "cell_type": "code",
   "execution_count": null,
   "id": "19812403",
   "metadata": {},
   "outputs": [],
   "source": [
    "#1.- ¿Si se declara una variable boolean del valor 0.0000000001 es True o False?\n",
    "val = bool(0.0000000001)\n",
    "print(val)"
   ]
  },
  {
   "cell_type": "code",
   "execution_count": null,
   "id": "61a80f06",
   "metadata": {},
   "outputs": [],
   "source": [
    "#2.- Construir el operador XNOR en Python\n",
    "\n",
    "a = True\n",
    "b = False\n",
    "print(a == b)"
   ]
  },
  {
   "cell_type": "code",
   "execution_count": null,
   "id": "fcbd5446",
   "metadata": {},
   "outputs": [],
   "source": [
    "#Utiliza el operador logico OR, porque solo una condicion puede ser cierta, no ambas\n",
    "#T_V = Tarjeta Valida; H_D = Huella Digital\n",
    "print(\"T_V  |  H_D | Puerta    \")\n",
    "print(\"_____|______|___________\")\n",
    "print(\"False| False| No se Abre\")\n",
    "print(\"False| True | Se Abre   \")\n",
    "print(\"True | False| Se Abre   \")\n",
    "print(\"True | True | No se Abre\")"
   ]
  },
  {
   "cell_type": "code",
   "execution_count": null,
   "id": "dec4f555",
   "metadata": {},
   "outputs": [],
   "source": [
    "#4.- La resta de los números 17 y 9 es un número par?\n",
    "if (17 - 9) % 2 == 0: print(\"Es par\")\n",
    "else: print(\"Es impar\")\n"
   ]
  },
  {
   "cell_type": "code",
   "execution_count": null,
   "id": "d61f7c0f",
   "metadata": {},
   "outputs": [],
   "source": [
    "#5.- Comparar los números 44 y 98 , 111 y 333 ,\n",
    "# comprobar si tienen la misma paridad ambos pares o ambos impares\n",
    "if(44 % 2 == 0 and 98 % 2 == 0): print(\"Ambos son pares\")\n",
    "else: print(\"Uno de los dos numeros no es par\")\n",
    "if(111 % 2 != 0 and 333 % 2 != 0): print(\"Ambos son impares\")\n",
    "else: print(\"Unos de los dos numeros no es impar\")"
   ]
  },
  {
   "cell_type": "code",
   "execution_count": null,
   "id": "3de9ac11",
   "metadata": {},
   "outputs": [],
   "source": [
    "#6.- ¿El cubo de 300 se encuentra en el siguiente rango? [N > 0 & N < 27_000_000\n",
    "cubo_300 = 300**3\n",
    "\n",
    "if(cubo_300 > 0 and cubo_300 < 27000000): print(True)\n",
    "else: print(False)"
   ]
  },
  {
   "cell_type": "code",
   "execution_count": null,
   "id": "acecc2c2",
   "metadata": {},
   "outputs": [],
   "source": [
    "#7.- ¿El cuadrado y la suma de 2 y 2 son iguales?\n",
    "cua_2 = 2 ** 2\n",
    "sum_2 = 2 + 2\n",
    "if ( cua_2 == sum_2): print(True)\n",
    "else: print(False)"
   ]
  }
 ],
 "metadata": {
  "kernelspec": {
   "display_name": "Python 3",
   "language": "python",
   "name": "python3"
  },
  "language_info": {
   "name": "python",
   "version": "3.13.2"
  }
 },
 "nbformat": 4,
 "nbformat_minor": 5
}
