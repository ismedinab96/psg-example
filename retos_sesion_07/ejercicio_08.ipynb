{
 "cells": [
  {
   "cell_type": "code",
   "execution_count": 1,
   "id": "96af465e",
   "metadata": {},
   "outputs": [],
   "source": [
    "frase = str(\"Entre el amor y el odio, hay un paso; pero entre Dios y el hombre el paso lo pones tu\")"
   ]
  },
  {
   "cell_type": "code",
   "execution_count": 2,
   "id": "883cf3d6",
   "metadata": {},
   "outputs": [
    {
     "name": "stdout",
     "output_type": "stream",
     "text": [
      "El resultado de tu resta es:  3\n"
     ]
    }
   ],
   "source": [
    "num_1 = int(input(\"Ingrese un numero: \"))\n",
    "num_2 = int(input(\"Ingrese otro numero: \"))\n",
    "num_3 = int(input(\"Ingrese otro numero: \"))\n",
    "resta = num_1 - num_2 - num_3\n",
    "print(\"El resultado de tu resta es: \",resta)"
   ]
  },
  {
   "cell_type": "code",
   "execution_count": 3,
   "id": "339f710e",
   "metadata": {},
   "outputs": [
    {
     "name": "stdout",
     "output_type": "stream",
     "text": [
      "css\n"
     ]
    }
   ],
   "source": [
    "palabra = \"casas\"\n",
    "\n",
    "print(palabra[::2])"
   ]
  },
  {
   "cell_type": "code",
   "execution_count": 4,
   "id": "69c75136",
   "metadata": {},
   "outputs": [
    {
     "name": "stdout",
     "output_type": "stream",
     "text": [
      "atsifargolafecneortcele\n"
     ]
    }
   ],
   "source": [
    "palabra = \"electroencefalografista\"\n",
    "\n",
    "print(palabra[24::-1])\n"
   ]
  },
  {
   "cell_type": "code",
   "execution_count": 6,
   "id": "4198a255",
   "metadata": {},
   "outputs": [
    {
     "name": "stdout",
     "output_type": "stream",
     "text": [
      "True\n"
     ]
    }
   ],
   "source": [
    "palabra = input(\"Ingrese una palabra: \")\n",
    "palabra_mod = palabra.replace(\" \",\"\").lower()\n",
    "palindromo = print(True) if palabra_mod[len(palabra_mod)::-1] == palabra_mod else print(False)"
   ]
  },
  {
   "cell_type": "code",
   "execution_count": 7,
   "id": "5aae240e",
   "metadata": {},
   "outputs": [
    {
     "name": "stdout",
     "output_type": "stream",
     "text": [
      "------Ejemplo-------\n",
      "True\n",
      "01      012     0123    01234\n",
      "False\n",
      "False\n"
     ]
    }
   ],
   "source": [
    "#Agregar 5 Ejemplos con otras funciones no vistas en la sesión\n",
    "#str.center()\n",
    "print(\"Ejemplo\".center(20,\"-\"))\n",
    "\n",
    "#str.isascii()\n",
    "print(\"@\".isascii())\n",
    "\n",
    "# str.expandtabs(tabsize=8)\n",
    "print('01\\t012\\t0123\\t01234'.expandtabs())\n",
    "\n",
    "#str.is_integer()\n",
    "print(223.2.is_integer())\n",
    "\n",
    "#str.isdecimal()\n",
    "print(\"2.5\".isdecimal())"
   ]
  }
 ],
 "metadata": {
  "kernelspec": {
   "display_name": "Python 3",
   "language": "python",
   "name": "python3"
  },
  "language_info": {
   "codemirror_mode": {
    "name": "ipython",
    "version": 3
   },
   "file_extension": ".py",
   "mimetype": "text/x-python",
   "name": "python",
   "nbconvert_exporter": "python",
   "pygments_lexer": "ipython3",
   "version": "3.13.2"
  }
 },
 "nbformat": 4,
 "nbformat_minor": 5
}
